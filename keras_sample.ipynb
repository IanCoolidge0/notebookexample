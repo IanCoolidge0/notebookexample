{
 "cells": [
  {
   "cell_type": "code",
   "execution_count": 1,
   "id": "fd8a6e7f",
   "metadata": {},
   "outputs": [],
   "source": [
    "import tensorflow as tf\n",
    "from tensorflow import keras\n",
    "from tensorflow.keras import layers\n",
    "import matplotlib.pyplot as plt\n",
    "import numpy as np"
   ]
  },
  {
   "cell_type": "code",
   "execution_count": 21,
   "id": "646c7d8a",
   "metadata": {},
   "outputs": [],
   "source": [
    "(x_train, y_train), (x_test, y_test) = keras.datasets.mnist.load_data()"
   ]
  },
  {
   "cell_type": "code",
   "execution_count": 5,
   "id": "d2d1a4ec",
   "metadata": {},
   "outputs": [],
   "source": [
    "x_train = x_train.astype(\"float32\") / 255\n",
    "x_test = x_test.astype(\"float32\") / 255\n",
    "\n",
    "x_train = np.expand_dims(x_train, -1)\n",
    "x_test = np.expand_dims(x_test, -1)\n",
    "\n",
    "y_train = keras.utils.to_categorical(y_train, 10)\n",
    "y_test = keras.utils.to_categorical(y_test, 10)"
   ]
  },
  {
   "cell_type": "code",
   "execution_count": 22,
   "id": "da69be13",
   "metadata": {
    "scrolled": true
   },
   "outputs": [],
   "source": [
    "N = 124\n",
    "plt.imshow(x_train[N])"
   ]
  },
  {
   "cell_type": "code",
   "execution_count": 15,
   "id": "df41e879",
   "metadata": {},
   "outputs": [],
   "source": [
    "non_conv_model = keras.Sequential([\n",
    "    keras.Input(shape=(28, 28, 1)),\n",
    "    layers.Flatten(),\n",
    "    layers.Dense(50, activation=\"sigmoid\"),\n",
    "    layers.Dense(10, activation=\"softmax\")\n",
    "])"
   ]
  },
  {
   "cell_type": "code",
   "execution_count": 16,
   "id": "3865e56c",
   "metadata": {},
   "outputs": [],
   "source": [
    "non_conv_model.compile(loss=\"categorical_crossentropy\", optimizer=\"adam\", metrics=[\"accuracy\"])"
   ]
  },
  {
   "cell_type": "code",
   "execution_count": 23,
   "id": "613a719a",
   "metadata": {},
   "outputs": [],
   "source": [
    "non_conv_model.fit(x_train, y_train, batch_size=100, epochs=20, validation_split=0.1)"
   ]
  },
  {
   "cell_type": "code",
   "execution_count": 24,
   "id": "923822dc",
   "metadata": {},
   "outputs": [],
   "source": [
    "non_conv_model.evaluate(x_test, y_test)"
   ]
  },
  {
   "cell_type": "code",
   "execution_count": 25,
   "id": "76489bee",
   "metadata": {},
   "outputs": [],
   "source": [
    "predictions = np.argmax(non_conv_model.predict(x_test), axis=1)"
   ]
  },
  {
   "cell_type": "code",
   "execution_count": 26,
   "id": "96b00cf7",
   "metadata": {
    "scrolled": true
   },
   "outputs": [],
   "source": [
    "N = 4747\n",
    "plt.imshow(x_test[N])\n",
    "predictions[N]"
   ]
  },
  {
   "cell_type": "code",
   "execution_count": null,
   "id": "cdfea4ab",
   "metadata": {},
   "outputs": [],
   "source": []
  }
 ],
 "metadata": {
  "kernelspec": {
   "display_name": "Python 3 (ipykernel)",
   "language": "python",
   "name": "python3"
  },
  "language_info": {
   "codemirror_mode": {
    "name": "ipython",
    "version": 3
   },
   "file_extension": ".py",
   "mimetype": "text/x-python",
   "name": "python",
   "nbconvert_exporter": "python",
   "pygments_lexer": "ipython3",
   "version": "3.9.12"
  }
 },
 "nbformat": 4,
 "nbformat_minor": 5
}
