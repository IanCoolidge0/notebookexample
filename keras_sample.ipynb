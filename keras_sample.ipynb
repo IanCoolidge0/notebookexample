{
 "cells": [
  {
   "cell_type": "code",
   "execution_count": 14,
   "id": "fd8a6e7f",
   "metadata": {},
   "outputs": [],
   "source": [
    "import tensorflow as tf\n",
    "from tensorflow import keras\n",
    "from tensorflow.keras import layers\n",
    "import matplotlib.pyplot as plt\n",
    "import numpy as np\n",
    "import random"
   ]
  },
  {
   "cell_type": "code",
   "execution_count": 15,
   "id": "646c7d8a",
   "metadata": {},
   "outputs": [],
   "source": [
    "# Download the MNIST Dataset from Keras\n",
    "(x_train, y_train), (x_test, y_test) = keras.datasets.mnist.load_data()"
   ]
  },
  {
   "cell_type": "code",
   "execution_count": 16,
   "id": "d2d1a4ec",
   "metadata": {},
   "outputs": [],
   "source": [
    "# Standard preprocessing for the MNIST set to make it compatible with ML.\n",
    "x_train = x_train.astype(\"float32\") / 255\n",
    "x_test = x_test.astype(\"float32\") / 255\n",
    "\n",
    "x_train = np.expand_dims(x_train, -1)\n",
    "x_test = np.expand_dims(x_test, -1)\n",
    "\n",
    "y_train = keras.utils.to_categorical(y_train, 10)\n",
    "y_test = keras.utils.to_categorical(y_test, 10)"
   ]
  },
  {
   "cell_type": "code",
   "execution_count": 27,
   "id": "da69be13",
   "metadata": {
    "scrolled": true
   },
   "outputs": [],
   "source": [
    "# This will show the image associated with a random element of the MNIST training set.\n",
    "# Can be run multiple times to see multiple examples.\n",
    "N = int(random.randrange(0, 60000))\n",
    "plt.imshow(x_train[N])"
   ]
  },
  {
   "cell_type": "code",
   "execution_count": 18,
   "id": "df41e879",
   "metadata": {},
   "outputs": [],
   "source": [
    "# Creates a simple Keras neural network with one hidden layer to solve MNIST.\n",
    "non_conv_model = keras.Sequential([\n",
    "    keras.Input(shape=(28, 28, 1)),\n",
    "    layers.Flatten(),\n",
    "    layers.Dense(50, activation=\"sigmoid\"),\n",
    "    layers.Dense(10, activation=\"softmax\")\n",
    "])"
   ]
  },
  {
   "cell_type": "code",
   "execution_count": 19,
   "id": "3865e56c",
   "metadata": {},
   "outputs": [],
   "source": [
    "# Compile the model with the correct loss function and optimizer, and tell it to report accuracy during training.\n",
    "non_conv_model.compile(loss=\"categorical_crossentropy\", optimizer=\"adam\", metrics=[\"accuracy\"])"
   ]
  },
  {
   "cell_type": "code",
   "execution_count": 28,
   "id": "613a719a",
   "metadata": {},
   "outputs": [],
   "source": [
    "# Fit the model to the training data. This will show the accuracy increasing from epoch to epoch in real time.\n",
    "# With 20 epochs this should give near-perfect accuracy.\n",
    "non_conv_model.fit(x_train, y_train, batch_size=100, epochs=20, validation_split=0.1)"
   ]
  },
  {
   "cell_type": "code",
   "execution_count": 29,
   "id": "923822dc",
   "metadata": {},
   "outputs": [],
   "source": [
    "# Evaluate the model's performance on the *test* set, which is separate from the training set.\n",
    "non_conv_model.evaluate(x_test, y_test)"
   ]
  },
  {
   "cell_type": "code",
   "execution_count": 30,
   "id": "76489bee",
   "metadata": {},
   "outputs": [],
   "source": [
    "# Obtain the predicted values for each element of the test set.\n",
    "predictions = np.argmax(non_conv_model.predict(x_test), axis=1)"
   ]
  },
  {
   "cell_type": "code",
   "execution_count": 37,
   "id": "96b00cf7",
   "metadata": {
    "scrolled": true
   },
   "outputs": [],
   "source": [
    "# This cell will show an MNIST image and its predicted digit from the model we just trained.\n",
    "# Can be run multiple times to see different results.\n",
    "N = int(random.randrange(0, 10000))\n",
    "plt.imshow(x_test[N])\n",
    "print(\"Predicted: \" + str(predictions[N]))"
   ]
  },
  {
   "cell_type": "code",
   "execution_count": null,
   "id": "cdfea4ab",
   "metadata": {},
   "outputs": [],
   "source": []
  }
 ],
 "metadata": {
  "kernelspec": {
   "display_name": "Python 3 (ipykernel)",
   "language": "python",
   "name": "python3"
  },
  "language_info": {
   "codemirror_mode": {
    "name": "ipython",
    "version": 3
   },
   "file_extension": ".py",
   "mimetype": "text/x-python",
   "name": "python",
   "nbconvert_exporter": "python",
   "pygments_lexer": "ipython3",
   "version": "3.9.12"
  }
 },
 "nbformat": 4,
 "nbformat_minor": 5
}
